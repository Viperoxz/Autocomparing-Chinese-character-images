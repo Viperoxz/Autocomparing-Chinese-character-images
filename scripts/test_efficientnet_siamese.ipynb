{
 "cells": [
  {
   "cell_type": "code",
   "execution_count": 58,
   "metadata": {},
   "outputs": [],
   "source": [
    "import os\n",
    "import sys\n",
    "sys.path.append(os.path.abspath(os.path.join(os.getcwd(), '..')))\n",
    "import torch\n",
    "import cv2\n",
    "import numpy as np\n",
    "from models.efficientnet_siamese.efficientnet_siamese_model import EfficientNetSiameseNetwork\n",
    "from utils.loss import ContrastiveLoss\n",
    "import matplotlib.pyplot as plt"
   ]
  },
  {
   "cell_type": "code",
   "execution_count": 59,
   "metadata": {},
   "outputs": [],
   "source": [
    "def load_image(image_path):\n",
    "    \"\"\"Đọc và tiền xử lý ảnh từ file, trả về tensor và ảnh gốc.\"\"\"\n",
    "    img = cv2.imread(image_path, cv2.IMREAD_GRAYSCALE)\n",
    "    if img is None:\n",
    "        raise ValueError(f\"Cannot load image at {image_path}\")\n",
    "    img_normalized = img.astype(np.float32) / 255.0  # Normalize 0-1\n",
    "    img_tensor = torch.tensor(img_normalized, dtype=torch.float32).unsqueeze(0).unsqueeze(0)  # [1, 1, H, W]\n",
    "    return img_tensor, img\n",
    "\n",
    "def test_model(image1_path, image2_path, checkpoint_path, threshold, device, margin, real_label):\n",
    "    \"\"\"Kiểm tra mô hình trên một cặp ảnh và hiển thị kết quả.\"\"\"\n",
    "    model = EfficientNetSiameseNetwork(freeze_base=True).to(device)\n",
    "    checkpoint = torch.load(checkpoint_path, map_location=device)\n",
    "    model.load_state_dict(checkpoint['model_state_dict'])\n",
    "    model.eval()\n",
    "\n",
    "    # Load ảnh và giữ ảnh gốc để hiển thị\n",
    "    img1_tensor, img1_display = load_image(image1_path)\n",
    "    img2_tensor, img2_display = load_image(image2_path)\n",
    "    img1_tensor = img1_tensor.to(device)\n",
    "    img2_tensor = img2_tensor.to(device)\n",
    "\n",
    "    with torch.no_grad():\n",
    "        output1, output2 = model(img1_tensor, img2_tensor)\n",
    "        diff = torch.sqrt(torch.sum((output1 - output2) ** 2, dim=1))\n",
    "        predicted = (diff <= threshold).float()\n",
    "        prediction = \"Similar\" if predicted.item() == 1 else \"Dissimilar\"\n",
    "        distance = diff.item()\n",
    "\n",
    "    real_label_str = \"Similar\" if real_label == 1 else \"Dissimilar\"\n",
    "    # Hiển thị ảnh và kết quả\n",
    "    plt.figure(figsize=(10, 5))\n",
    "\n",
    "    # Ảnh 1\n",
    "    plt.subplot(1, 2, 1)\n",
    "    plt.imshow(img1_display, cmap='gray')\n",
    "    plt.title(\"Image 1\")\n",
    "    plt.axis('off')\n",
    "\n",
    "    # Ảnh 2\n",
    "    plt.subplot(1, 2, 2)\n",
    "    plt.imshow(img2_display, cmap='gray')\n",
    "    plt.title(\"Image 2\")\n",
    "    plt.axis('off')\n",
    "\n",
    "    # Thêm text cho distance và prediction\n",
    "    plt.suptitle(f\"Distance: {distance:.4f}\\nPrediction: {prediction}\\nReal Label: {real_label_str}\", \n",
    "                 fontsize=12, y=1.05)\n",
    "    plt.tight_layout()\n",
    "    plt.show()\n",
    "\n",
    "    print(f\"Distance: {distance:.4f}, Prediction: {prediction}, Real Label: {real_label_str}\")\n",
    "    return prediction"
   ]
  },
  {
   "cell_type": "code",
   "execution_count": 60,
   "metadata": {},
   "outputs": [
    {
     "name": "stdout",
     "output_type": "stream",
     "text": [
      "Using device: cuda\n"
     ]
    }
   ],
   "source": [
    "device = torch.device('cuda' if torch.cuda.is_available() else 'cpu')\n",
    "print(f\"Using device: {device}\")"
   ]
  },
  {
   "cell_type": "code",
   "execution_count": 61,
   "metadata": {},
   "outputs": [],
   "source": [
    "# Cấu hình\n",
    "checkpoint_path = \"../models/efficientnet_siamese/effnet_siamese_checkpoint_lr_0.001_margin_1.0.pth\"  \n",
    "threshold = 0.4  \n",
    "margin = 1.0 "
   ]
  },
  {
   "cell_type": "code",
   "execution_count": 76,
   "metadata": {},
   "outputs": [
    {
     "name": "stdout",
     "output_type": "stream",
     "text": [
      "\n",
      "Testing pair: ../data/test_samples/char2/1.png vs ../data/test_samples/char3/2.png\n"
     ]
    },
    {
     "name": "stderr",
     "output_type": "stream",
     "text": [
      "C:\\Users\\admin\\AppData\\Local\\Temp\\ipykernel_5424\\3851643696.py:13: FutureWarning: You are using `torch.load` with `weights_only=False` (the current default value), which uses the default pickle module implicitly. It is possible to construct malicious pickle data which will execute arbitrary code during unpickling (See https://github.com/pytorch/pytorch/blob/main/SECURITY.md#untrusted-models for more details). In a future release, the default value for `weights_only` will be flipped to `True`. This limits the functions that could be executed during unpickling. Arbitrary objects will no longer be allowed to be loaded via this mode unless they are explicitly allowlisted by the user via `torch.serialization.add_safe_globals`. We recommend you start setting `weights_only=True` for any use case where you don't have full control of the loaded file. Please open an issue on GitHub for any issues related to this experimental feature.\n",
      "  checkpoint = torch.load(checkpoint_path, map_location=device)\n"
     ]
    },
    {
     "data": {
      "image/png": "[encoded data removed]",
      "text/plain": [
       "<Figure size 1000x500 with 2 Axes>"
      ]
     },
     "metadata": {},
     "output_type": "display_data"
    },
    {
     "name": "stdout",
     "output_type": "stream",
     "text": [
      "Distance: 0.4152, Prediction: Dissimilar, Real Label: Dissimilar\n"
     ]
    }
   ],
   "source": [
    " image_pair = [\n",
    "    '../data/test_samples/char2/1.png',  \n",
    "    '../data/test_samples/char3/2.png'   \n",
    "]\n",
    "real_label = 2\n",
    "if os.path.exists(image_pair[0]) and os.path.exists(image_pair[1]):\n",
    "    print(f\"\\nTesting pair: {image_pair[0]} vs {image_pair[1]}\")\n",
    "    test_model(image_pair[0], image_pair[1], checkpoint_path, threshold, device, margin, real_label)\n",
    "else:\n",
    "    print(\"One or both images not found. Please check the paths.\")"
   ]
  },
  {
   "cell_type": "code",
   "execution_count": null,
   "metadata": {},
   "outputs": [],
   "source": []
  }
 ],
 "metadata": {
  "kernelspec": {
   "display_name": "ai_learning",
   "language": "python",
   "name": "python3"
  },
  "language_info": {
   "codemirror_mode": {
    "name": "ipython",
    "version": 3
   },
   "file_extension": ".py",
   "mimetype": "text/x-python",
   "name": "python",
   "nbconvert_exporter": "python",
   "pygments_lexer": "ipython3",
   "version": "3.9.20"
  }
 },
 "nbformat": 4,
 "nbformat_minor": 2
}
